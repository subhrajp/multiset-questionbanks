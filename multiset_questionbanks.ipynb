{
 "cells": [
  {
   "cell_type": "code",
   "execution_count": 1,
   "metadata": {},
   "outputs": [
    {
     "name": "stdout",
     "output_type": "stream",
     "text": [
      "Quiz prepared\n"
     ]
    }
   ],
   "source": [
    "import random\n",
    "import os\n",
    "capitals = {'Bihar' : 'Patna', 'Odisha' : 'Bhubaneswar', 'Sikkim' : 'Gangtok', 'Assam' : 'Dispur', 'Jharkhand' : 'Ranchi', 'West Bengal' : 'Kolkata', 'Uttar Pradesh' : 'Lucknow', 'Maharashtra' : 'Mumbai', 'Karnataka' : 'Bengaluru', 'Punjab' : 'Chandigarh'}\n",
    "#create 4 sets of questionbank\n",
    "for quizNum in range(4):\n",
    "    quFile = open('quiz%s.txt' % (quizNum + 1), 'w')\n",
    "    ansFile = open('quiz_answers%s.txt' % (quizNum + 1), 'w')\n",
    "    quFile.write((' ' * 20) + 'State Capitals Quiz (Set %s)' % (quizNum + 1))\n",
    "    quFile.write('\\n\\n')\n",
    "    quFile.write('Name:\\n\\nDate:\\n\\n')\n",
    "    states = list(capitals.keys())\n",
    "    random.shuffle(states)\n",
    "    for qnum in range(10):\n",
    "        correctAns = capitals[states[qnum]]\n",
    "        wrongAns = list(capitals.values())\n",
    "        del wrongAns[wrongAns.index(correctAns)]\n",
    "        wrongAns = random.sample(wrongAns, 3)\n",
    "        answerOptions = wrongAns + [correctAns]\n",
    "        random.shuffle(answerOptions)\n",
    "        \n",
    "        quFile.write('%s. What is the capital of %s?\\n\\n' % (qnum + 1,states[qnum]))\n",
    "        for i in range(4):\n",
    "            quFile.write(' %s. %s\\n' % ('ABCD'[i], answerOptions[i]))\n",
    "            #quFile.write('\\n')\n",
    "            # Write the answer key to a file.\n",
    "        quFile.write('\\n')\n",
    "        ansFile.write('%s. %s\\n' % (qnum + 1, 'ABCD'[answerOptions.index(correctAns)]))\n",
    "    quFile.close()\n",
    "    ansFile.close()\n",
    "print('Quiz prepared')"
   ]
  },
  {
   "cell_type": "code",
   "execution_count": null,
   "metadata": {
    "collapsed": true
   },
   "outputs": [],
   "source": []
  }
 ],
 "metadata": {
  "kernelspec": {
   "display_name": "Python 3",
   "language": "python",
   "name": "python3"
  },
  "language_info": {
   "codemirror_mode": {
    "name": "ipython",
    "version": 3
   },
   "file_extension": ".py",
   "mimetype": "text/x-python",
   "name": "python",
   "nbconvert_exporter": "python",
   "pygments_lexer": "ipython3",
   "version": "3.6.2"
  }
 },
 "nbformat": 4,
 "nbformat_minor": 2
}
